{
  "nbformat": 4,
  "nbformat_minor": 0,
  "metadata": {
    "colab": {
      "provenance": []
    },
    "kernelspec": {
      "name": "python3",
      "display_name": "Python 3"
    },
    "language_info": {
      "name": "python"
    }
  },
  "cells": [
    {
      "cell_type": "markdown",
      "source": [
        "#The sequential Model"
      ],
      "metadata": {
        "id": "WU94aZQcYuK4"
      }
    },
    {
      "cell_type": "code",
      "execution_count": null,
      "metadata": {
        "id": "oBqIc8nVvxds"
      },
      "outputs": [],
      "source": [
        "import tensorflow as tf\n",
        "import keras\n",
        "from keras import layers"
      ]
    },
    {
      "cell_type": "markdown",
      "source": [
        "A Sequential model is appropriate for a plain stack of layers where each layer has exactly one input tensor and one output tensor."
      ],
      "metadata": {
        "id": "qZoBMSpJZBWR"
      }
    },
    {
      "cell_type": "markdown",
      "source": [
        "**Dense  Layer -**\n",
        "This layer is widely used in Keras for creating the deeply connected layer in the neural network\n",
        "\n",
        "**Flatten Layer**\n",
        "This layer is used in input flattening\n",
        "\n",
        "**Dropout Layer**\n",
        "This layer is used to reduce the overfitting of the neural network.\n"
      ],
      "metadata": {
        "id": "v5SyqzCaZdSk"
      }
    },
    {
      "cell_type": "code",
      "source": [
        "model = keras.Sequential([\n",
        "    layers.Dense(3 , activation = 'relu' ,name ='Inputlayer'),\n",
        "     layers.Dense(4,activation = 'relu',name = 'Hiddenlayer'),\n",
        "     layers.Dense(4, name = 'output layer')\n",
        "\n",
        "                         ])\n",
        "\n",
        "x= tf.ones((2,2))\n",
        "model(x)"
      ],
      "metadata": {
        "colab": {
          "base_uri": "https://localhost:8080/"
        },
        "id": "li5FOBMFYx5g",
        "outputId": "6df25430-d186-4954-8415-fd8b5e3bc194"
      },
      "execution_count": null,
      "outputs": [
        {
          "output_type": "execute_result",
          "data": {
            "text/plain": [
              "<tf.Tensor: shape=(2, 4), dtype=float32, numpy=\n",
              "array([[-0.10146073,  0.13315804,  0.04760575,  0.12365723],\n",
              "       [-0.10146073,  0.13315804,  0.04760575,  0.12365723]],\n",
              "      dtype=float32)>"
            ]
          },
          "metadata": {},
          "execution_count": 11
        }
      ]
    },
    {
      "cell_type": "code",
      "source": [
        "layer1 = layers.Dense(3,activation = 'relu', name = 'InputLayer')\n",
        "layer2 = layers.Dense(4,activation = 'relu', name = 'HiddenLayer')\n",
        "layer3 = layers.Dense(4 , name = 'OutputLayer')\n",
        "\n",
        "x = tf.ones((2,2))\n",
        "y = layer3(layer2(layer1(x)))\n",
        "y"
      ],
      "metadata": {
        "colab": {
          "base_uri": "https://localhost:8080/"
        },
        "id": "meSLobK1bAg4",
        "outputId": "3f25dc96-027b-48f1-f652-8d25a35a46cd"
      },
      "execution_count": null,
      "outputs": [
        {
          "output_type": "execute_result",
          "data": {
            "text/plain": [
              "<tf.Tensor: shape=(2, 4), dtype=float32, numpy=\n",
              "array([[0., 0., 0., 0.],\n",
              "       [0., 0., 0., 0.]], dtype=float32)>"
            ]
          },
          "metadata": {},
          "execution_count": 14
        }
      ]
    },
    {
      "cell_type": "markdown",
      "source": [
        "**Once** a model is \"built\", you can call its summary() method to display its contents:"
      ],
      "metadata": {
        "id": "gO_XV-QtfA6E"
      }
    },
    {
      "cell_type": "code",
      "source": [
        "model.summary()"
      ],
      "metadata": {
        "colab": {
          "base_uri": "https://localhost:8080/"
        },
        "id": "mcF8A5GXexLW",
        "outputId": "2de5a01c-0999-4993-f03b-84b5163e7c4a"
      },
      "execution_count": null,
      "outputs": [
        {
          "output_type": "stream",
          "name": "stdout",
          "text": [
            "Model: \"sequential\"\n",
            "_________________________________________________________________\n",
            " Layer (type)                Output Shape              Param #   \n",
            "=================================================================\n",
            " Inputlayer (Dense)          (2, 3)                    9         \n",
            "                                                                 \n",
            " Hiddenlayer (Dense)         (2, 4)                    16        \n",
            "                                                                 \n",
            " output layer (Dense)        multiple                  20        \n",
            "                                                                 \n",
            "=================================================================\n",
            "Total params: 45 (180.00 Byte)\n",
            "Trainable params: 45 (180.00 Byte)\n",
            "Non-trainable params: 0 (0.00 Byte)\n",
            "_________________________________________________________________\n"
          ]
        }
      ]
    },
    {
      "cell_type": "code",
      "source": [
        "from keras.models import Sequential\n",
        "from keras.layers import Flatten,Dense\n",
        "\n",
        "model = Sequential()\n",
        "model.add( Flatten(input_shape = (28,28) ))\n",
        "model.add(Dense(512, activation = 'relu'))\n",
        "model.add(Dense(512, activation = 'relu'))\n",
        "model.add(Dense(10, activation = 'softmax'))\n",
        "model.summary()\n",
        "\n"
      ],
      "metadata": {
        "colab": {
          "base_uri": "https://localhost:8080/"
        },
        "id": "wiq1u2ayfDh3",
        "outputId": "c520522e-7103-4543-f5e6-7e24527ed332"
      },
      "execution_count": null,
      "outputs": [
        {
          "output_type": "stream",
          "name": "stdout",
          "text": [
            "Model: \"sequential_1\"\n",
            "_________________________________________________________________\n",
            " Layer (type)                Output Shape              Param #   \n",
            "=================================================================\n",
            " flatten (Flatten)           (None, 784)               0         \n",
            "                                                                 \n",
            " dense (Dense)               (None, 512)               401920    \n",
            "                                                                 \n",
            " dense_1 (Dense)             (None, 512)               262656    \n",
            "                                                                 \n",
            " dense_2 (Dense)             (None, 10)                5130      \n",
            "                                                                 \n",
            "=================================================================\n",
            "Total params: 669706 (2.55 MB)\n",
            "Trainable params: 669706 (2.55 MB)\n",
            "Non-trainable params: 0 (0.00 Byte)\n",
            "_________________________________________________________________\n"
          ]
        }
      ]
    },
    {
      "cell_type": "markdown",
      "source": [
        "Params after the flatten layer = 0, because this layer only flattens the image to a vector for feeding into the input layer. The weights haven’t been added yet.\n",
        "\n",
        "Params after layer 1 = (784 nodes in input layer) × (512 in hidden layer 1) + (512 connections to biases) = 401,920.\n",
        "\n",
        "Params after layer 2 = (512 nodes in hidden layer 1) × (512 in hidden layer 2) + (512 connections to biases) = 262,656.\n",
        "\n",
        "Params after layer 3= (512 nodes in hidden layer 2) × (10 in output layer) + (10 connections to biases) = 5,130.\n",
        "\n",
        "Total params in the network = 401,920 + 262,656 + 5,130 = 669,706.\n"
      ],
      "metadata": {
        "id": "0s-g8Dz0hjln"
      }
    },
    {
      "cell_type": "code",
      "source": [],
      "metadata": {
        "id": "ThFPOpcfhVlb"
      },
      "execution_count": null,
      "outputs": []
    }
  ]
}